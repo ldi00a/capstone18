{
 "cells": [
  {
   "cell_type": "code",
   "execution_count": 37,
   "metadata": {},
   "outputs": [],
   "source": [
    "import json\n",
    "from pprint import pprint\n",
    "import csv\n",
    "import re\n",
    "import gzip\n",
    "import numpy as np\n",
    "import matplotlib.pyplot as plt"
   ]
  },
  {
   "cell_type": "code",
   "execution_count": 2,
   "metadata": {},
   "outputs": [
    {
     "name": "stdout",
     "output_type": "stream",
     "text": [
      "[['88c91a7b-5c41-4361-85d0-da759ab94204',\n",
      "  'adadde58-de3b-4cf7-908b-5057831e400e',\n",
      "  'c08817f0-fc05-44ea-8a92-8b7538ac49d8.FPKM.txt.gz'],\n",
      " ['74749fe8-f5d0-4d0d-8c7a-e56eba6503b3',\n",
      "  'aa7770a2-6fbb-4693-8378-3b5de332deca',\n",
      "  '3704029d-0bb1-40b5-b666-610174d521c2.FPKM.txt.gz'],\n",
      " ['88e7ce26-5b3f-4e4e-89b7-f706063fc467',\n",
      "  '0e345952-6f09-4e61-b9a9-e8f809bf21e0',\n",
      "  '6073b31e-7ce7-423e-a9b2-a85e3e9bc62e.FPKM.txt.gz']]\n"
     ]
    }
   ],
   "source": [
    "#this cell opens the metadata file and create list with: files = [case_id,file_id,file_name]\n",
    "with open('../kidney clinical data/metadata.cart.2018-11-01.json') as data_file:    \n",
    "    data = json.load(data_file)\n",
    "\n",
    "#initialize the array to hold the information\n",
    "files = []\n",
    "    \n",
    "for n in range(len(data)):\n",
    "    #remove the TARGET project files since clinical data doesn't match\n",
    "    if not bool('TARGET' in data[n]['associated_entities'][0]['entity_submitter_id']):\n",
    "        files.append([data[n]['associated_entities'][0]['case_id'],data[n]['file_id'],data[n]['file_name']])\n",
    "    \n",
    "pprint(files[0:3])"
   ]
  },
  {
   "cell_type": "code",
   "execution_count": 28,
   "metadata": {},
   "outputs": [
    {
     "data": {
      "text/plain": [
       "['1a726069-0b44-42ad-9a20-0ee90b31796b', '1954', '20708']"
      ]
     },
     "execution_count": 28,
     "metadata": {},
     "output_type": "execute_result"
    }
   ],
   "source": [
    "clinical_data = []\n",
    "\n",
    "with open('../kidney clinical data/clinical.tsv') as tsvin:\n",
    "    tsvin = csv.reader(tsvin, delimiter='\\t')\n",
    "    \n",
    "    firstline=True\n",
    "    \n",
    "    for row in tsvin:\n",
    "        if firstline:\n",
    "            firstline=False\n",
    "        else:\n",
    "        # the TARGET project stores data in the wrong columns so ignore those\n",
    "            if not bool('TARGET' in str(row[1])):\n",
    "                clinical_data.append(row[0])\n",
    "                clinical_data.append(row[4])\n",
    "                clinical_data.append(row[12])\n",
    "                clinical_data.append(row[13])\n",
    "                clinical_data.append(row[15])\n",
    "                clinical_data.append(row[24])\n",
    "\n",
    "clinical_data[0:3]"
   ]
  },
  {
   "cell_type": "code",
   "execution_count": 51,
   "metadata": {},
   "outputs": [
    {
     "name": "stdout",
     "output_type": "stream",
     "text": [
      "[  1.00000000e+00   3.98900000e+03   7.65900057e-02   1.46122715e-01\n",
      "   1.68854992e+00]\n"
     ]
    }
   ],
   "source": [
    "#grab FPKM data from files\n",
    "with gzip.open('../kidney FPKM data/'+files[0][1]+'/'+files[0][2], 'rb') as f:\n",
    "    row_count = sum(1 for row in f)\n",
    "    \n",
    "# FPKM_data will store all FPKM data in a row for all patients in the clinical data set\n",
    "FPKM_data = np.zeros((len(files),row_count+2))\n",
    "\n",
    "for n in range(len(files)):\n",
    "    with gzip.open('../kidney FPKM data/'+files[n][1]+'/'+files[n][2], 'rb') as f:\n",
    "        m=2\n",
    "        # add: status (0=dead, 1=alive), days at last check or days at death\n",
    "        index=clinical_data.index(files[n][0])\n",
    "        if clinical_data[index+3]=='alive' and not clinical_data[index+5]=='--':\n",
    "            FPKM_data[n,0]=1\n",
    "            FPKM_data[n,1]=float(clinical_data[index+5])\n",
    "        if clinical_data[index+3]=='dead' and not clinical_data[index+4]=='--':\n",
    "            FPKM_data[n,0]=0\n",
    "            FPKM_data[n,1]=float(clinical_data[index+4])\n",
    "        for line in f:\n",
    "            string=str(line)\n",
    "            FPKM_data[n,m]=float(string[string.find('\\\\t')+2:string.find('\\\\n')])\n",
    "            m=m+1\n",
    "                \n",
    "print(FPKM_data[0,0:5])"
   ]
  },
  {
   "cell_type": "code",
   "execution_count": 38,
   "metadata": {},
   "outputs": [
    {
     "data": {
      "image/png": "[encoded data removed]",
      "text/plain": [
       "<Figure size 432x288 with 1 Axes>"
      ]
     },
     "metadata": {},
     "output_type": "display_data"
    }
   ],
   "source": [
    "plt.plot(FPKM_data[0,2:])\n",
    "plt.show()"
   ]
  },
  {
   "cell_type": "code",
   "execution_count": 39,
   "metadata": {},
   "outputs": [],
   "source": [
    "from sklearn import tree"
   ]
  },
  {
   "cell_type": "code",
   "execution_count": 61,
   "metadata": {},
   "outputs": [],
   "source": [
    "clf = tree.DecisionTreeClassifier()\n",
    "clf = clf.fit(FPKM_data[:,3:], FPKM_data[:,0])"
   ]
  },
  {
   "cell_type": "code",
   "execution_count": 62,
   "metadata": {},
   "outputs": [
    {
     "data": {
      "text/plain": [
       "'iris.pdf'"
      ]
     },
     "execution_count": 62,
     "metadata": {},
     "output_type": "execute_result"
    }
   ],
   "source": [
    "import graphviz \n",
    "dot_data = tree.export_graphviz(clf, out_file=None) \n",
    "graph = graphviz.Source(dot_data) \n",
    "graph.render(\"iris\") "
   ]
  },
  {
   "cell_type": "code",
   "execution_count": 15,
   "metadata": {},
   "outputs": [
    {
     "ename": "TypeError",
     "evalue": "data type \"string\" not understood",
     "output_type": "error",
     "traceback": [
      "\u001b[0;31m---------------------------------------------------------------------------\u001b[0m",
      "\u001b[0;31mTypeError\u001b[0m                                 Traceback (most recent call last)",
      "\u001b[0;32m<ipython-input-15-3289b4e2e259>\u001b[0m in \u001b[0;36m<module>\u001b[0;34m()\u001b[0m\n\u001b[0;32m----> 1\u001b[0;31m \u001b[0mnp\u001b[0m\u001b[0;34m.\u001b[0m\u001b[0mzeros\u001b[0m\u001b[0;34m(\u001b[0m\u001b[0;34m(\u001b[0m\u001b[0;36m3\u001b[0m\u001b[0;34m,\u001b[0m\u001b[0;36m5\u001b[0m\u001b[0;34m)\u001b[0m\u001b[0;34m,\u001b[0m\u001b[0mdtype\u001b[0m\u001b[0;34m=\u001b[0m\u001b[0;34m'string'\u001b[0m\u001b[0;34m)\u001b[0m\u001b[0;34m\u001b[0m\u001b[0m\n\u001b[0m",
      "\u001b[0;31mTypeError\u001b[0m: data type \"string\" not understood"
     ]
    }
   ],
   "source": [
    "np.zeros((3,5),dtype='string')"
   ]
  },
  {
   "cell_type": "code",
   "execution_count": 23,
   "metadata": {},
   "outputs": [],
   "source": [
    "test=np.array(clinical_data)"
   ]
  },
  {
   "cell_type": "code",
   "execution_count": 21,
   "metadata": {},
   "outputs": [
    {
     "ename": "AttributeError",
     "evalue": "'numpy.ndarray' object has no attribute 'index'",
     "output_type": "error",
     "traceback": [
      "\u001b[0;31m---------------------------------------------------------------------------\u001b[0m",
      "\u001b[0;31mAttributeError\u001b[0m                            Traceback (most recent call last)",
      "\u001b[0;32m<ipython-input-21-fb09ae5b3ca1>\u001b[0m in \u001b[0;36m<module>\u001b[0;34m()\u001b[0m\n\u001b[0;32m----> 1\u001b[0;31m \u001b[0mtest\u001b[0m\u001b[0;34m[\u001b[0m\u001b[0;34m:\u001b[0m\u001b[0;34m,\u001b[0m\u001b[0;36m0\u001b[0m\u001b[0;34m]\u001b[0m\u001b[0;34m.\u001b[0m\u001b[0mindex\u001b[0m\u001b[0;34m(\u001b[0m\u001b[0;34m'2797088e-f534-4c1e-abf8-cc6f832cd911'\u001b[0m\u001b[0;34m)\u001b[0m\u001b[0;34m\u001b[0m\u001b[0m\n\u001b[0m",
      "\u001b[0;31mAttributeError\u001b[0m: 'numpy.ndarray' object has no attribute 'index'"
     ]
    }
   ],
   "source": [
    "test[:,0].index('2797088e-f534-4c1e-abf8-cc6f832cd911')"
   ]
  },
  {
   "cell_type": "code",
   "execution_count": 52,
   "metadata": {},
   "outputs": [
    {
     "data": {
      "text/plain": [
       "(1023, 60485)"
      ]
     },
     "execution_count": 52,
     "metadata": {},
     "output_type": "execute_result"
    }
   ],
   "source": [
    "FPKM_data.shape"
   ]
  },
  {
   "cell_type": "code",
   "execution_count": 45,
   "metadata": {},
   "outputs": [
    {
     "data": {
      "text/plain": [
       "1023"
      ]
     },
     "execution_count": 45,
     "metadata": {},
     "output_type": "execute_result"
    }
   ],
   "source": [
    "len(files)"
   ]
  },
  {
   "cell_type": "code",
   "execution_count": null,
   "metadata": {
    "collapsed": true
   },
   "outputs": [],
   "source": []
  }
 ],
 "metadata": {
  "kernelspec": {
   "display_name": "Python 3",
   "language": "python",
   "name": "python3"
  },
  "language_info": {
   "codemirror_mode": {
    "name": "ipython",
    "version": 3
   },
   "file_extension": ".py",
   "mimetype": "text/x-python",
   "name": "python",
   "nbconvert_exporter": "python",
   "pygments_lexer": "ipython3",
   "version": "3.6.2"
  }
 },
 "nbformat": 4,
 "nbformat_minor": 2
}
